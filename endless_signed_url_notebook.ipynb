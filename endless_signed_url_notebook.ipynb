{
 "cells": [
  {
   "cell_type": "markdown",
   "metadata": {},
   "source": [
    "### Signed URL with UP42 and GDAL vrt files\n",
    "\n",
    "This notebook breaks down into sperate code blocks what the python program loops through. PLay around with this so that you can learn about what the different functions do. "
   ]
  },
  {
   "cell_type": "code",
   "execution_count": 5,
   "metadata": {},
   "outputs": [],
   "source": [
    "import up42\n",
    "import time\n",
    "import schedule\n",
    "from pathlib import Path\n",
    "import subprocess"
   ]
  },
  {
   "cell_type": "markdown",
   "metadata": {},
   "source": [
    "##### Get assets"
   ]
  },
  {
   "cell_type": "code",
   "execution_count": null,
   "metadata": {},
   "outputs": [],
   "source": [
    "# Authenticate and initialize\n",
    "\n",
    "up42.authenticate('../../../central_creds/credentials.json') # - - - UPDATE this file in order to authenticate\n",
    "storage = up42.initialize_storage()\n",
    "\n",
    "# Search for assets in storage - modify these parameters based on your needs\n",
    "assets = storage.get_assets(workspace_id='',\n",
    "                            collection_names=['phr'],\n",
    "                            tags=[])\n",
    "\n",
    "# Discover more info here https://docs.up42.com/sdk/reference/sdk-storage"
   ]
  },
  {
   "cell_type": "code",
   "execution_count": null,
   "metadata": {},
   "outputs": [],
   "source": [
    "# Find stac assets\n",
    "\n",
    "stac_items = assets[0].stac_items\n",
    "stac_items[0]"
   ]
  },
  {
   "cell_type": "code",
   "execution_count": null,
   "metadata": {},
   "outputs": [],
   "source": [
    "type(stac_items[0])"
   ]
  },
  {
   "cell_type": "code",
   "execution_count": null,
   "metadata": {},
   "outputs": [],
   "source": [
    "stac_item_id = stac_items[0].id\n",
    "print(stac_item_id)\n",
    "\n",
    "asset_key_list = [stac_asset for stac_asset in stac_items[0].get_assets(role='data').keys()]\n",
    "print(asset_key_list)"
   ]
  },
  {
   "cell_type": "code",
   "execution_count": null,
   "metadata": {},
   "outputs": [],
   "source": [
    "for asset_key in asset_key_list:\n",
    "    stac_asset_url = assets[0].get_stac_asset_url(stac_items[0].get_assets().get(asset_key))\n",
    "    print(stac_asset_url)"
   ]
  },
  {
   "cell_type": "markdown",
   "metadata": {},
   "source": [
    "##### Put it all together and buld the VRT with GDAL"
   ]
  },
  {
   "cell_type": "code",
   "execution_count": null,
   "metadata": {},
   "outputs": [],
   "source": [
    "# Get the stac assets for the stac item that have are type 'data'.\n",
    "stac_items[0].get_assets(role='data')"
   ]
  },
  {
   "cell_type": "code",
   "execution_count": null,
   "metadata": {},
   "outputs": [],
   "source": [
    "\n",
    "for asset_number in range(len(assets)):\n",
    "    stac_items = assets[0].stac_items\n",
    "    stac_item_id = stac_items[0].id\n",
    "    print(asset_number, stac_item_id)\n",
    "\n",
    "    asset_key_list = [stac_asset for stac_asset in stac_items[0].get_assets(role='data').keys()]\n",
    "    print(asset_key_list)\n",
    "\n",
    "    for asset_key in asset_key_list:\n",
    "        stac_asset_url = assets[asset_number].get_stac_asset_url(stac_items[0].get_assets().get(asset_key))\n",
    "        print(stac_asset_url)\n",
    "\n",
    "        try:\n",
    "            cmd_vrt = ['gdalbuildvrt',\n",
    "                    f'./vrt/{asset_key}.vrt',\n",
    "                    '-overwrite',\n",
    "                    stac_asset_url\n",
    "                    ]\n",
    "            print(cmd_vrt)\n",
    "            subprocess.run(cmd_vrt)\n",
    "            print('VRT file created')\n",
    "\n",
    "        except:\n",
    "            print(f'Some error building VRT file {asset_key}')\n",
    "    "
   ]
  },
  {
   "cell_type": "code",
   "execution_count": null,
   "metadata": {},
   "outputs": [],
   "source": []
  }
 ],
 "metadata": {
  "kernelspec": {
   "display_name": "py310",
   "language": "python",
   "name": "python3"
  },
  "language_info": {
   "codemirror_mode": {
    "name": "ipython",
    "version": 3
   },
   "file_extension": ".py",
   "mimetype": "text/x-python",
   "name": "python",
   "nbconvert_exporter": "python",
   "pygments_lexer": "ipython3",
   "version": "3.10.13"
  }
 },
 "nbformat": 4,
 "nbformat_minor": 2
}
